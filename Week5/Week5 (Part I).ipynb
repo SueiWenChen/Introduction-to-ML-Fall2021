{
 "cells": [
  {
   "cell_type": "markdown",
   "metadata": {},
   "source": [
    "### Programming Session Week 4\n",
    "\n",
    "In this session we will continue to work on regression and we will extend our toolbox to include an additional set of classification methods. "
   ]
  },
  {
   "cell_type": "markdown",
   "metadata": {},
   "source": [
    "##### Exercise 1. Regularized Logistic regression\n",
    "\n",
    "Just as the least squares objective, the logistic regression model can be used with a regularizarion penalty. In fact we can (again) show that this corresponds to a Gaussian (resp. Laplace) prior on the weights. Using the dataset below and increasing the model complexity by generating a sufficient number of (polynomial) features, learn a logistic regression classifier that focuses on the most important features. "
   ]
  },
  {
   "cell_type": "code",
   "execution_count": 10,
   "metadata": {},
   "outputs": [
    {
     "data": {
      "image/png": "[encoded data removed]",
      "text/plain": [
       "<Figure size 432x288 with 1 Axes>"
      ]
     },
     "metadata": {
      "needs_background": "light"
     },
     "output_type": "display_data"
    }
   ],
   "source": [
    "import scipy.io\n",
    "import matplotlib.pyplot as plt\n",
    "import numpy as np\n",
    "\n",
    "dataClass1 = scipy.io.loadmat('data_recitationClassification_class1.mat')['data_recitationClassification_class1']\n",
    "dataClass2 = scipy.io.loadmat('data_recitationClassification_class2.mat')['data_recitationClassification_class2']\n",
    "\n",
    "\n",
    "plt.scatter(dataClass1[:,0], dataClass1[:,1], c='r')\n",
    "plt.scatter(dataClass2[:,0], dataClass2[:,1], c='b')\n",
    "plt.show()"
   ]
  },
  {
   "cell_type": "markdown",
   "metadata": {},
   "source": [
    "##### Exercise 2. Learning to discriminate between numbers: MNIST \n",
    "\n",
    "Load the MNIST dataset using the lines below. Select two of your favorite digits and learn a logist classifier to discriminate between the digits. Don't forget to split your dataset into a training and a test part. Once you have trained the model, measure the error with the misclassification rate (you can use scikit learn) "
   ]
  },
  {
   "cell_type": "code",
   "execution_count": 9,
   "metadata": {},
   "outputs": [],
   "source": [
    "\n",
    "from sklearn.datasets import fetch_openml\n",
    "\n",
    "mnist = fetch_openml('mnist_784', version=1)\n",
    "dataset = mnist['data']\n",
    "targets = mnist['target']"
   ]
  },
  {
   "cell_type": "code",
   "execution_count": null,
   "metadata": {},
   "outputs": [],
   "source": [
    "# put your code here \n",
    "\n"
   ]
  },
  {
   "cell_type": "markdown",
   "metadata": {},
   "source": [
    "##### Exercise 3. Newton Method \n",
    "\n",
    "When training a logistic regression model, we often rely on Newton steps (or which is quite similar, on Fisher scoring). Recall that the logistic regression loss is given by \n",
    "\n",
    "\\begin{align}\n",
    "\\ell(\\beta) = \\sum_{i=1}^n \\left\\{t^{(i)} \\log(\\sigma(\\mathbf{w}^T\\mathbf{x}^{(i)})) + (1-t^{(i)})\\log(1-\\sigma(\\mathbf{w}^T\\mathbf{x}^{(i)}))\\right\\}\n",
    "\\end{align}\n",
    "\n",
    "The gradient of this loss with respect to $\\mathbf{\\beta}$ can be derived as \n",
    "\\begin{align}\n",
    "\\frac{\\partial \\ell(\\beta)}{\\partial \\beta } = \\sum_{i=1}^N \\mathbf{x}^{(i)}(t^{(i)} - \\sigma(\\mathbf{w}^T\\mathbf{x}^{(i)}))\n",
    "\\end{align}\n",
    "\n",
    "One can also show that the Hessian can read as \n",
    "\\begin{align}\n",
    "\\frac{\\partial^2 \\ell(\\beta)}{\\partial \\beta \\partial \\beta^T} = -\\sum_{i=1}^N \\mathbf{x}^{(i)}(\\mathbf{x}^{(i)})^T \\sigma(\\mathbf{w}^T\\mathbf{x}^{(i)})(1 - \\sigma(\\mathbf{w}^T\\mathbf{x}^{(i)}))\n",
    "\\end{align}\n",
    "\n",
    "Use those two expressions to learn a logistic classifier on the dataset below following Newton steps of the form\n",
    "\n",
    "\\begin{align}\n",
    "\\beta^{(k+1)} = \\beta^{(k)} - \\\n",
    "\\end{align}\n"
   ]
  },
  {
   "cell_type": "code",
   "execution_count": 12,
   "metadata": {},
   "outputs": [
    {
     "data": {
      "image/png": "[encoded data removed]",
      "text/plain": [
       "<Figure size 432x288 with 1 Axes>"
      ]
     },
     "metadata": {
      "needs_background": "light"
     },
     "output_type": "display_data"
    }
   ],
   "source": [
    "import scipy.io\n",
    "import matplotlib.pyplot as plt\n",
    "import numpy as np\n",
    "\n",
    "dataClass1 = scipy.io.loadmat('data_recitationClassificationEx3_class1.mat')['data_recitationClassificationEx3_class1']\n",
    "dataClass2 = scipy.io.loadmat('data_recitationClassificationEx3_class2.mat')['data_recitationClassificationEx3_class2']\n",
    "\n",
    "\n",
    "plt.scatter(dataClass1[:,0], dataClass1[:,1], c='r')\n",
    "plt.scatter(dataClass2[:,0], dataClass2[:,1], c='b')\n",
    "plt.show()"
   ]
  }
 ],
 "metadata": {
  "kernelspec": {
   "display_name": "Python 3",
   "language": "python",
   "name": "python3"
  },
  "language_info": {
   "codemirror_mode": {
    "name": "ipython",
    "version": 3
   },
   "file_extension": ".py",
   "mimetype": "text/x-python",
   "name": "python",
   "nbconvert_exporter": "python",
   "pygments_lexer": "ipython3",
   "version": "3.8.5"
  }
 },
 "nbformat": 4,
 "nbformat_minor": 4
}

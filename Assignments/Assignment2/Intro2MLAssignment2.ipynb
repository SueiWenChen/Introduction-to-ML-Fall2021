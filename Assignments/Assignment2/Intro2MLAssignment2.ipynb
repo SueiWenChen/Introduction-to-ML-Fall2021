{
 "cells": [
  {
   "cell_type": "markdown",
   "metadata": {},
   "source": [
    "<h2><center>Introduction to Machine Learning: Assignment 2</center></h2>\n",
    "\n",
    "__Given date:__ Monday September 27\n",
    "\n",
    "__Due date:__ Friday October 15"
   ]
  },
  {
   "cell_type": "markdown",
   "metadata": {},
   "source": [
    "#### Question 1 Least Absolute Shrinkage and Selection Operator \n",
    "\n",
    "__(13pts)__\n",
    "\n",
    "Learning a model through the OLS loss can be done very efficiently through either gradient descent or even through the Normal equations. The same is true for ridge regression. For the Lasso formulation however, the non differentiability of the absolute value at $0$ makes the learning more tricky.\n",
    "\n",
    "\n",
    "\n",
    "One approach, known as _ISTA_ (see Amir Beck and Marc Teboulle, _A Fast Iterative Shrinkage-Thresholding Algorithm for Linear Inverse Problems_) consists in combining traditional gradient descent steps with a projection onto the $\\ell_1$ norm ball. Concretely, for the LASSO objective \n",
    "\n",
    "\\begin{align}\n",
    "\\ell(\\boldsymbol \\beta) = \\|\\boldsymbol X\\boldsymbol \\beta - \\boldsymbol t\\|^2_2 + \\lambda \\|\\boldsymbol \\beta\\|_1\n",
    "\\end{align}\n",
    "\n",
    "where $\\boldsymbol \\beta = (\\beta_1, \\beta_2,\\ldots, \\beta_D)$ (note that we don't include the bias) and the feature vectors $\\left\\{\\boldsymbol  x_i\\right\\}_{i=1}^N$ (corresponding to the rows of the matrix $\\boldsymbol X$) as well as the targets $t_i$ are assumed to be centered, i.e.\n",
    "\\begin{align}\n",
    "\\boldsymbol x_{ij} \\leftarrow \\boldsymbol x_{ij}-  \\frac{1}{N}\\sum_{i=1}^{N} x_{ij}\\\\\n",
    "t_i \\leftarrow t_i - \\frac{1}{N}\\sum_{i=1}^N t_i\n",
    "\\end{align}\n",
    "\n",
    "(Note that this is equivalent to taking $\\beta_0 = \\frac{1}{N}\\sum_{i=1}^N t_i$)\n",
    "The ISTA update takes the form \n",
    "\n",
    "\\begin{align}\n",
    "\\boldsymbol \\beta^{k+1} \\leftarrow \\mathcal{T}_{\\lambda \\eta} (\\boldsymbol \\beta^{k} - 2\\eta \\mathbf{X}^T(\\mathbf{X}\\mathbf{\\beta} - \\mathbf{t}))\n",
    "\\end{align}\n",
    "\n",
    "where $\\mathcal{T}_{\\lambda \\eta}(\\mathbf{x})_i$ is the thresholding operator defined component-wise as\n",
    "\n",
    "\\begin{align}\n",
    "\\mathcal{T}_{\\lambda t}(\\mathbf{\\beta})_i = (|\\beta_i| - \\lambda t)_+ \\text{sign}(\\beta_i)\n",
    "\\end{align}\n",
    "\n",
    "In the equations above, $\\eta$ is an appropriate step size and $(x)_+ = \\max(x, 0)$ \n",
    "\n",
    "##### Question 1.1. (5pts)\n",
    "\n",
    "Complete the function 'ISTA' which must return a final estimate for the regression vector $\\mathbf{\\beta}$ given a feature matrix $\\mathbf{X}$, a target vector $\\mathbf{t}$ (the function should include the centering steps for $\\mathbf{x}_i$ and $t_i$) regularization weight $\\lambda$, and the choice for the learning rate $\\eta$. "
   ]
  },
  {
   "cell_type": "code",
   "execution_count": null,
   "metadata": {},
   "outputs": [],
   "source": [
    "def ISTA(beta_init, X, t, lbda, eta):\n",
    "    \n",
    "    '''The function takes as input an initial guess for beta, a set \n",
    "    of feature vectors stored in X and their corresponding \n",
    "    targets stored in t, a regularization weight lbda, \n",
    "    step size parameter eta and must return the \n",
    "    regression weights following from the minimization of \n",
    "    the LASSO objective'''\n",
    "    \n",
    "    beta_LASSO = np.zeros((np.shape(X)[0], 1))\n",
    "    \n",
    "        # add your code here\n",
    "    \n",
    "    \n",
    "    return beta_LASSO\n",
    "    "
   ]
  },
  {
   "cell_type": "markdown",
   "metadata": {},
   "source": [
    "##### Question 1.2.  (3pts)\n",
    "\n",
    "Apply your algorithm to the data (in red) given below for polynomial features up to degree 8-10 and for various values of $\\lambda$. Display the result on top of the true model (in blue)."
   ]
  },
  {
   "cell_type": "code",
   "execution_count": 9,
   "metadata": {},
   "outputs": [
    {
     "data": {
      "image/png": "[encoded data removed]",
      "text/plain": [
       "<Figure size 432x288 with 1 Axes>"
      ]
     },
     "metadata": {
      "needs_background": "light"
     },
     "output_type": "display_data"
    }
   ],
   "source": [
    "import numpy as np\n",
    "import matplotlib.pyplot as plt\n",
    "\n",
    "\n",
    "\n",
    "x = np.linspace(0,1,20)\n",
    "xtrue = np.linspace(0,1,100)\n",
    "t_true = 0.1 + 1.3*xtrue\n",
    "\n",
    "t = 0.1 + 1.3*x\n",
    "\n",
    "tnoisy  = t+np.random.normal(0,.1,len(x))\n",
    "\n",
    "plt.scatter(x, tnoisy, c='r')\n",
    "plt.plot(xtrue, t_true)\n",
    "\n",
    "plt.show()"
   ]
  },
  {
   "cell_type": "markdown",
   "metadata": {},
   "source": [
    "##### Question 1.3 FISTA (3pts)\n",
    "\n",
    "It is possible to improve the ISTA updates by combining them with Nesterov accelerated gradient descent. The resulting update, known as FISTA can read, for a constant step size, by \n",
    "letting $\\mathbf{y}^{(1)} = {\\boldsymbol \\beta}^{(0)}$, $\\eta^1 = 1$ and then using (for $k \\geq 1$) \n",
    "\n",
    "\\begin{align}\n",
    "\\left\\{\n",
    "\\begin{array}{l}\n",
    "&\\boldsymbol{\\beta}^{k} = \\text{ISTA}(\\mathbf{y}^{k})\\\\\n",
    "&\\eta^{(k+1)} = \\frac{1+\\sqrt{1+4(\\eta^{(k)})^2}}{2}\\\\\n",
    "&\\mathbf{y}^{(k+1)} = \\mathbf{\\beta}^{(k)} + \\left(\\frac{\\eta^{(k)} - 1}{\\eta^{(k+1)}}\\right)\\left({\\boldsymbol\\beta}^{(k)} - {\\boldsymbol\\beta}^{(k-1)}\\right)\\end{array}\\right.\n",
    "\\end{align}\n",
    "\n",
    "Here $\\text{ISTA}$ denotes a __single__ ISTA update.\n",
    "\n",
    "Complete the function below so that it performs the FISTA iterations. Then apply it to the data given in question 1.2."
   ]
  },
  {
   "cell_type": "code",
   "execution_count": null,
   "metadata": {},
   "outputs": [],
   "source": [
    "def FISTA(X, t, eta1, beta0, lbda):\n",
    "    \n",
    "    '''function should return the solution to the minimization of the\n",
    "    the LASSO objective ||X*beta - t||_2^2 + lambda*||beta||_1\n",
    "    by means of FISTA updates'''\n",
    "    \n",
    "    \n",
    "    \n",
    "    return beta_LASSO "
   ]
  },
  {
   "cell_type": "markdown",
   "metadata": {},
   "source": [
    "##### Question 1.4. (2pts)\n",
    "\n",
    "Compare the ISTA and FISTA updates by plotting the evolution of the loss $\\ell(\\mathbf{\\beta})$ as a function of the iterations for both approaches. Take a sufficient number of iterations (1000 - 10,000)"
   ]
  },
  {
   "cell_type": "code",
   "execution_count": null,
   "metadata": {},
   "outputs": [],
   "source": [
    "import matplotlib.pyplot as plt\n",
    "\n",
    "\n",
    "FISTA_loss = np.zeros((max_iter, 1))\n",
    "ISTA_loss = np.zeros((max_iter, 1))\n",
    "\n",
    "plt.plot(FISTA_loss)\n",
    "plt.plot(ISTA_loss)\n",
    "plt.show()"
   ]
  },
  {
   "cell_type": "markdown",
   "metadata": {},
   "source": [
    "#### Question 2. Classification Trees\n",
    "\n",
    "__(10pts)__\n",
    "\n",
    "When the data is not easily separable, it remains possible to learn a tree based classifier. For a dataset that consists of pairs $\\left\\{(\\mathbf{x}_i, t_i)\\right\\}_{i=1, \\ldots, N}$ where $\\mathbf{x}_i = (x_{i1}, x_{i2})\\in \\mathbb{R}^2$. We start with all the data in a single class. We then consider a split point $(j,s)$ such that it defines the two regions $R_1(j,s) = \\left\\{x|x_j\\leq s\\right\\}$ and $R_2(j, s) = \\left\\{x|x_j>s\\right\\}$\n",
    "\n",
    "In general we seek the splitting variables $j$ and split point $s$ that solve \n",
    "\\begin{align}\n",
    "\\min_{j, s} \\left[\\min_{c_1} \\sum_{\\mathbf{x}_i\\in R_1(j, s)} (t_i - c_1)^2 + \\min_{c_2} \\sum_{\\mathbf{x}_i\\in R_2(j, s)} (t_i - c_2)^2\\right]\n",
    "\\end{align}\n",
    "\n",
    "For which the inner minimization is solved by \n",
    "\\begin{align}\n",
    "\\hat{c}_1 = \\text{average}(t_i|\\mathbf{x}_i \\in R_1(j, s))\n",
    "\\end{align}\n",
    "and \n",
    "\\begin{align}\n",
    "\\hat{c}_2 = \\text{average}(t_i|\\mathbf{x}_i \\in R_2(j, s))\n",
    "\\end{align}\n",
    "\n",
    "Having found the best split, we partition the data into the corresponding two regions and repeat the splitting process on each of the two regions. Note that $s$ should always be taken amond the training points.\n",
    "\n",
    "\n",
    "##### Question 2.1. (10pts)\n",
    "\n",
    "Build a classification tree for the dataset given below with a stopping criterion corresponding to a target that is constant (or almost) across regions. Then plot the result with meshgrid and contourf. "
   ]
  },
  {
   "cell_type": "code",
   "execution_count": 1,
   "metadata": {},
   "outputs": [
    {
     "data": {
      "image/png": "[encoded data removed]",
      "text/plain": [
       "<Figure size 432x288 with 1 Axes>"
      ]
     },
     "metadata": {
      "needs_background": "light"
     },
     "output_type": "display_data"
    }
   ],
   "source": [
    "import matplotlib.pyplot as plt\n",
    "import numpy as np\n",
    "import scipy.io\n",
    "\n",
    "class1 = scipy.io.loadmat('points_Assignment2_Ex2_class1.mat')['points_Assignment2_Ex2_class1']\n",
    "class2 = scipy.io.loadmat('points_Assignment2_Ex2_class2.mat')['points_Assignment2_Ex2_class2']\n",
    "class3 = scipy.io.loadmat('points_Assignment2_Ex2_class3.mat')['points_Assignment2_Ex2_class3']\n",
    "class4 = scipy.io.loadmat('points_Assignment2_Ex2_class4.mat')['points_Assignment2_Ex2_class4']\n",
    "\n",
    "\n",
    "plt.scatter(class1[:,0], class1[:,1])\n",
    "plt.scatter(class2[:,0], class2[:,1])\n",
    "plt.scatter(class3[:,0], class3[:,1])\n",
    "plt.scatter(class4[:,0], class4[:,1])\n",
    "plt.show()\n"
   ]
  }
 ],
 "metadata": {
  "kernelspec": {
   "display_name": "Python 3",
   "language": "python",
   "name": "python3"
  },
  "language_info": {
   "codemirror_mode": {
    "name": "ipython",
    "version": 3
   },
   "file_extension": ".py",
   "mimetype": "text/x-python",
   "name": "python",
   "nbconvert_exporter": "python",
   "pygments_lexer": "ipython3",
   "version": "3.8.5"
  }
 },
 "nbformat": 4,
 "nbformat_minor": 4
}

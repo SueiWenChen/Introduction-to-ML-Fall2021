{
 "cells": [
  {
   "cell_type": "markdown",
   "metadata": {},
   "source": [
    "<h1><center>Week 5: Introduction to neural Networks</center></h1>\n",
    "\n",
    "<h3><center>CSCI-UA 9473 - Introduction to Machine Learning</center></h3>"
   ]
  },
  {
   "cell_type": "markdown",
   "metadata": {},
   "source": [
    "\n",
    "\n",
    "<img src=\"neuralNetImage.jpeg\" alt=\"Drawing\" style=\"width: 400px;\"/>"
   ]
  },
  {
   "cell_type": "markdown",
   "metadata": {},
   "source": [
    "## Perceptron learning rule"
   ]
  },
  {
   "cell_type": "markdown",
   "metadata": {},
   "source": [
    "This week, we will start working with neural networks. For each of the exercises below you can use the method of your choice but you should display the final boundary of your classifier."
   ]
  },
  {
   "cell_type": "markdown",
   "metadata": {},
   "source": [
    "### Exercise 1. \n",
    "As a first exercise, load the binary dataset below and code a few steps of the perceptron learning rule. "
   ]
  },
  {
   "cell_type": "code",
   "execution_count": 5,
   "metadata": {},
   "outputs": [],
   "source": [
    "import scipy.io as sio\n",
    "data1 = sio.loadmat('perceptron_data_class1.mat')\n",
    "data2 = sio.loadmat('perceptron_data_class2.mat')\n",
    "\n",
    "data1 = data1['perceptron_data_class1']\n",
    "data2 = data2['perceptron_data_class2']\n",
    "\n",
    "# put your code here"
   ]
  },
  {
   "cell_type": "markdown",
   "metadata": {},
   "source": [
    "### Exercise 2.\n",
    "\n",
    "__2a.__ Load the data below. Using the neural_network module from scikit-learn and its MLPClassifier model, learn a classifier, for the dataset below using \n",
    "\n",
    "- One hidden layer with a linear activation function and \n",
    "    - One neuron\n",
    "    - Two neurons\n",
    "    \n",
    "    \n",
    "    \n",
    "- One hidden layer with a non linear activation function (take Relu for example or a binary step)\n",
    "    - One neuron\n",
    "    - Two neurons\n",
    "\n",
    "How many neurons, hidden layers do you need to learn the distribution of the data? Do you have an idea why?\n",
    "\n",
    "Try increasing the number of neurons and hidden layers. Then try different values of the learning rate. \n"
   ]
  },
  {
   "cell_type": "code",
   "execution_count": 1,
   "metadata": {},
   "outputs": [
    {
     "data": {
      "image/png": "[encoded data removed]",
      "text/plain": [
       "<Figure size 432x288 with 1 Axes>"
      ]
     },
     "metadata": {
      "needs_background": "light"
     },
     "output_type": "display_data"
    }
   ],
   "source": [
    "import scipy.io as sio\n",
    "import numpy as np\n",
    "\n",
    "data1 = sio.loadmat('neural_net_class1.mat')\n",
    "data2 = sio.loadmat('neural_net_class2.mat')\n",
    "\n",
    "data1 = data1['neural_net_class1']\n",
    "data2 = data2['neural_net_class2']\n",
    "\n",
    "from sklearn.neural_network import MLPClassifier\n",
    "import matplotlib.pyplot as plt\n",
    "\n",
    "plt.scatter(data1[:,0], data1[:,1], c= 'r')\n",
    "plt.scatter(data2[:,0], data2[:,1], c= 'b')\n",
    "plt.show()\n"
   ]
  },
  {
   "cell_type": "code",
   "execution_count": null,
   "metadata": {},
   "outputs": [],
   "source": [
    "# put your code here\n",
    "\n"
   ]
  },
  {
   "cell_type": "markdown",
   "metadata": {},
   "source": [
    "__2b.__ Keep the dataset from above. try to change the intialization of the training algorithm. Plot the resulting classifier for a couple of different initializations. What do you see?\n",
    "\n",
    "Do it for a small network first. Then repeat those experiments for larger architectures. I.e. increase the number of neurons and the number of layers. What do you see when you change the initialization?\n"
   ]
  },
  {
   "cell_type": "code",
   "execution_count": null,
   "metadata": {},
   "outputs": [],
   "source": [
    "from sklearn.neural_network import MLPClassifier\n",
    "\n",
    "# put your code here\n",
    "\n"
   ]
  },
  {
   "cell_type": "markdown",
   "metadata": {},
   "source": [
    "### Exercise 3. \n",
    "\n",
    "__3a.__Load the data below. Try to build the best neural network you can for this dataset. Split the data between a training and a test set and evaluate the models you built. What is the best validation error you can get?"
   ]
  },
  {
   "cell_type": "code",
   "execution_count": 2,
   "metadata": {},
   "outputs": [
    {
     "data": {
      "image/png": "[encoded data removed]",
      "text/plain": [
       "<Figure size 432x288 with 1 Axes>"
      ]
     },
     "metadata": {
      "needs_background": "light"
     },
     "output_type": "display_data"
    }
   ],
   "source": [
    "\n",
    "import scipy.io as sio\n",
    "data1 = sio.loadmat('neural_net_ex2_class1.mat')\n",
    "data2 = sio.loadmat('neural_net_ex2_class2.mat')\n",
    "\n",
    "data1 = data1['neural_net_ex2_class1']\n",
    "data2 = data2['neural_net_ex2_class2']\n",
    "\n",
    "plt.scatter(data1[:,0], data1[:,1], c= 'r')\n",
    "plt.scatter(data2[:,0], data2[:,1], c= 'b')\n",
    "plt.show()"
   ]
  },
  {
   "cell_type": "code",
   "execution_count": null,
   "metadata": {},
   "outputs": [],
   "source": [
    "# put your answer here \n",
    "\n",
    "\n"
   ]
  },
  {
   "cell_type": "markdown",
   "metadata": {},
   "source": [
    "__3b.__ With the same dataset, add additional features to your model, e.g. $\\sin(x), \\sin(y)$ or other monomials. Can you improve your classifier ?"
   ]
  },
  {
   "cell_type": "markdown",
   "metadata": {},
   "source": [
    "### Exercise 4.\n",
    "\n",
    "Let us go back briefly to a simple dataset to make sure we understand how things work. As a first exercise, we will code a one hidden layer neural network that outputs a binary 0/1 variable indicating the class of our data. Throughout this exercise, we will use the notation $z^{\\ell+1} = \\sigma(a^{\\ell+1})$ to denote the output of any neuron from the $(\\ell+1)^{th}$ layer and where $a^{\\ell+1} = \\sum_{k} w_{\\ell+1,k} z_k$ is the combination from the previous layer that is fed to the neuron.  \n"
   ]
  },
  {
   "cell_type": "markdown",
   "metadata": {},
   "source": [
    "\n",
    "<img src=\"diagramNeuralNet3.png\" alt=\"Drawing\" style=\"width: 450px;\"/>\n"
   ]
  },
  {
   "cell_type": "markdown",
   "metadata": {},
   "source": [
    "We will use the function ['minimize'](https://docs.scipy.org/doc/scipy/reference/generated/scipy.optimize.minimize.html) from scipy. Check the documentation of that function. We will set the 'jac' parameter of the optimizer to 'True', which implies that the (objective) function that we provide as an input should return both the value of the loss and the value of its gradient. \n",
    "\n",
    "For this first exercise, you are asked to write a function $f(W)$ wich takes as arguments a vector $W$ containing all the parameters of your network (as a first step consider building a network with only a few hidden units, in order to make sure the model is working). As indicated above, the function should return (1) the value of the binary cross entropy for the given set of weights and (2) the value of the gradient derived through Backpropagation (as we set the value of 'jac' to True). \n",
    "\n",
    " We will split the writing of your function into several steps. Once you have coded each step, you should gather them together in a single $fun(W)$ body that you will then pass as input to the minimize function. \n",
    "\n",
    "### Exercise 4.a.\n",
    "\n",
    "Start Load the data using the lines below and plot it using scatter()"
   ]
  },
  {
   "cell_type": "code",
   "execution_count": null,
   "metadata": {},
   "outputs": [],
   "source": [
    "from scipy.optimize import minimize\n",
    "\n",
    "import scipy.io as sio\n",
    "data1 = sio.loadmat('pointsClass1Week6.mat')\n",
    "data2 = sio.loadmat('pointsClass2Week6.mat')\n",
    "\n",
    "from numpy import linalg as LA\n",
    "\n",
    "data1 = data1['pointsClass1Week6']\n",
    "data2 = data2['pointsClass2Week6']\n",
    "\n",
    "\n",
    "# put your code here"
   ]
  },
  {
   "cell_type": "markdown",
   "metadata": {},
   "source": [
    "### Exercise 4.b \n",
    "\n",
    "As indicated above, we want to apply the network to the simple binary dataset that you loaded above. We want to build an architecture similar to the one shown above, except that, since we only consider a 2D dataset, we only need 2 inputs. we want our activation function to be all sigmoid. Start by defining the function sigmoid and the gradient of this function. Once you are done, check your derivative. Also make sure you can compute the entrywise sigmoid on any numpy array if the input to your function is a numpy array. "
   ]
  },
  {
   "cell_type": "code",
   "execution_count": null,
   "metadata": {},
   "outputs": [],
   "source": []
  },
  {
   "cell_type": "markdown",
   "metadata": {},
   "source": [
    "### Exercise 4.c\n",
    "\n",
    "Now that we have the sigmoid and its gradient, we will code the loss. As you might remember from previous labs, the MLPClassifier from scikit-learn optimizes the 'log-loss function' (a.k.a Binary cross entropy) which reads for a set of $N$ prototypes $x_i$ with binary $0/1$ targets, \n",
    "\n",
    "$$−\\frac{1}{N}\\sum_{i=1}^N (y_i \\log(p_{W}(x_i))+(1−y_i)\\log(1−p_{W}(x_i))) $$\n",
    "\n",
    "Here the probability $p_{W}(x_i)$ is the output of your network. Instead of minimizing this function directly, we will consider its $\\ell_2$ regularized version\n",
    "\n",
    "$$−\\frac{1}{N}\\sum_{i=1}^N (y_i \\log(p_{W}(x_i))+(1−y_i)\\log(1−p_{W}(x_i)))  + \\lambda \\sum_{j\\in\\text{weights}\\setminus \\text{bias}} W^2_j$$\n",
    "\n",
    "Where the $W_j$ encode the weights. Code that function for a given labeled dataset $X,t$ such as given above, a set of weights stored in the vector $W$ (you can use a list or a dictionnary if you want but ultimately, you will need to store them in a numpy vector for use with the optimization routine).  Note that one typically does not regularize the bias terms. "
   ]
  },
  {
   "cell_type": "code",
   "execution_count": null,
   "metadata": {},
   "outputs": [],
   "source": []
  },
  {
   "cell_type": "markdown",
   "metadata": {},
   "source": [
    "### Exercise 4.d. \n",
    "\n",
    "Towards Backpropagation. The example above is relatively simple so that backpropagation is not really needed. Compute the gradient of the Binary cross entropy loss with respect to the weights.  "
   ]
  },
  {
   "cell_type": "code",
   "execution_count": null,
   "metadata": {},
   "outputs": [],
   "source": []
  },
  {
   "cell_type": "markdown",
   "metadata": {},
   "source": [
    "### Exercise 4.e. \n",
    "\n",
    "Combine all your previous steps into a single function and pass this function to the 'minimize' routine. To choose the initial value for the weights, a common heuristic is for the n^th layer to be initialized unformly at random in the interval $[-\\varepsilon_n, \\varepsilon_n]$ with $\\epsilon_n$ defined as $\\sqrt{\\frac{2}{\\text{size layer}_{\\ell-1} + \\text{size layer}_{\\ell} }}$\n",
    "\n"
   ]
  },
  {
   "cell_type": "code",
   "execution_count": null,
   "metadata": {},
   "outputs": [],
   "source": []
  },
  {
   "cell_type": "markdown",
   "metadata": {},
   "source": [
    "### Bonus 1 \n",
    "\n",
    "Change the activation to the Relu and reapeat the steps above. How do you compute the gradient in this case?"
   ]
  },
  {
   "cell_type": "code",
   "execution_count": null,
   "metadata": {},
   "outputs": [],
   "source": []
  },
  {
   "cell_type": "markdown",
   "metadata": {},
   "source": [
    "### Exercise 5. \n",
    "\n",
    "Coding a One hidden layer neural network is good to warm up but to really understand backpropagation, we will not add a few hidden layers. Still relying on the code that you developed above and using backpropagation, train a depth 4 neural network with 10 neurons in each layer on the binary dataset. "
   ]
  },
  {
   "cell_type": "markdown",
   "metadata": {},
   "source": [
    "### Exercise 5a. \n",
    "\n",
    "In this exercise, because of the multiple layers of the network, you will get to really code backpropagation. To do this, follow the steps below "
   ]
  },
  {
   "cell_type": "markdown",
   "metadata": {},
   "source": [
    "(see [Bishop Pattern Recognition and Machine Learning](http://users.isr.ist.utl.pt/~wurmd/Livros/school/Bishop%20-%20Pattern%20Recognition%20And%20Machine%20Learning%20-%20Springer%20%202006.pdf)) for more details.\n",
    "\n",
    "- Take any of the sample (Once you have completed one step of backprop, you should re-apply it to the next sample to get the gradient contribution for that next sample and so on). Forward propagate that sample through the network and compute all the activations $z = \\sigma(a_i)$ and input $a_i$ for each unit. \n",
    "\n",
    "- Evaluate the $\\delta_k = y_k(x_n) - t_{n,k}$ for all the output units.\n",
    "\n",
    "- Backpropagate the $\\delta_k$ using the formula\n",
    "\n",
    "$$\\delta_j = \\sigma'(a_j) \\sum_{k} w_{k,j} \\delta_k$$\n",
    "\n",
    "- Finally, compute the derivatives as \n",
    "\n",
    "$$\\frac{\\partial \\text{loss}}{\\partial w_{ij}}  = \\delta_j z_i$$\n",
    "\n",
    "Note that when coding the backpropagation algorithm, you don't need to account for the regularization part of the loss as you can just add the gradient of the regularization to the result of the backpropagation algorithm.  \n"
   ]
  },
  {
   "cell_type": "code",
   "execution_count": null,
   "metadata": {},
   "outputs": [],
   "source": [
    "from scipy.optimize import minimize\n",
    "\n",
    "\n",
    "# put your code here\n"
   ]
  },
  {
   "cell_type": "markdown",
   "metadata": {},
   "source": [
    "### Exercise 6. \n",
    "\n",
    "Extending to multiple classes. Load the data using the lines given below, visualize it with scatter. How can you extend the Binary cross entropy function to the multiclass problem?"
   ]
  },
  {
   "cell_type": "code",
   "execution_count": 7,
   "metadata": {},
   "outputs": [],
   "source": [
    "\n",
    "import scipy.io as sio\n",
    "data1 = sio.loadmat('xWeek6Ex3PointsClass1.mat')\n",
    "data2 = sio.loadmat('xWeek6Ex3PointsClass2.mat')\n",
    "data3 = sio.loadmat('xWeek6Ex3PointsClass3.mat')\n",
    "\n",
    "from numpy import linalg as LA\n",
    "\n",
    "data1 = data1['xWeek6Ex3PointsClass1']\n",
    "data2 = data2['xWeek6Ex3PointsClass2']\n",
    "data3 = data3['xWeek6Ex3PointsClass3']\n",
    "\n",
    "\n",
    "# put your code here\n",
    "\n"
   ]
  }
 ],
 "metadata": {
  "kernelspec": {
   "display_name": "Python 3",
   "language": "python",
   "name": "python3"
  },
  "language_info": {
   "codemirror_mode": {
    "name": "ipython",
    "version": 3
   },
   "file_extension": ".py",
   "mimetype": "text/x-python",
   "name": "python",
   "nbconvert_exporter": "python",
   "pygments_lexer": "ipython3",
   "version": "3.8.5"
  }
 },
 "nbformat": 4,
 "nbformat_minor": 4
}
